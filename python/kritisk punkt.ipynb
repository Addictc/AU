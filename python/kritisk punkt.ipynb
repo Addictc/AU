{
 "cells": [
  {
   "cell_type": "code",
   "execution_count": 65,
   "metadata": {},
   "outputs": [
    {
     "name": "stdout",
     "output_type": "stream",
     "text": [
      "Given the function \\begin{equation}- 2 x^{2} - x - 2 y^{2} + 4 y\\end{equation} the gradient is determined\n",
      "-4*x - 1 4 - 4*y\n",
      "the critical point is\n",
      "{x: -1/4, y: 1}\n",
      "the function value in the critical point is\n",
      "17/8\n"
     ]
    }
   ],
   "source": [
    "\n",
    "#script til løsning af sci2u opgaver af typen\n",
    "#find det kritiske punkt for\n",
    "#function\n",
    "#og beregn funktionsværdien i punktet\n",
    "\n",
    "from sympy import init_printing\n",
    "init_printing(use_latex = True)\n",
    "from sympy import *\n",
    "\n",
    "x,y,z,t= symbols(\"x y z t\")\n",
    "\n",
    "#funtion of any number of variables f(x,y,z)\n",
    "origin = -2*x**2-x-2*y**2+4*y\n",
    "\n",
    "print('Given the function',latex((origin),mode='equation'),\"the gradient is determined\")\n",
    "\n",
    "\n",
    "Dx = diff(origin,x)\n",
    "Dy = diff(origin,y)\n",
    "\n",
    "grad = (Dx, Dy)\n",
    "print(Dx,Dy)\n",
    "defeqx = Eq(Dx,0)\n",
    "defeqy = Eq(Dy,0)\n",
    "solveq = solve((defeqx,defeqy),x,y)\n",
    "\n",
    "print(\"the critical point is\")\n",
    "print(solveq)\n",
    "\n",
    "print(\"the function value in the critical point is\")\n",
    "\n",
    "\n",
    "funcval = origin.subs([(x,solveq[x]),(y,solveq[y])])\n",
    "\n",
    "print(funcval)\n",
    "\n",
    "#print(grad)\n",
    "#display(grad)\n",
    "\n",
    "\n",
    "\n",
    "#defdx = Dx.subs([(x,xval),(y,yval)])\n",
    "#defdy = Dy.subs([(x,xval),(y,yval)])\n",
    "\n",
    "\n",
    "#print(\"the gradient in the given point is\")\n",
    "#defgrad = (defdx, defdy)\n",
    "#display(defgrad)"
   ]
  },
  {
   "cell_type": "code",
   "execution_count": null,
   "metadata": {},
   "outputs": [],
   "source": []
  },
  {
   "cell_type": "code",
   "execution_count": null,
   "metadata": {},
   "outputs": [],
   "source": []
  }
 ],
 "metadata": {
  "kernelspec": {
   "display_name": "Python 3",
   "language": "python",
   "name": "python3"
  },
  "language_info": {
   "codemirror_mode": {
    "name": "ipython",
    "version": 3
   },
   "file_extension": ".py",
   "mimetype": "text/x-python",
   "name": "python",
   "nbconvert_exporter": "python",
   "pygments_lexer": "ipython3",
   "version": "3.8.3"
  }
 },
 "nbformat": 4,
 "nbformat_minor": 4
}
