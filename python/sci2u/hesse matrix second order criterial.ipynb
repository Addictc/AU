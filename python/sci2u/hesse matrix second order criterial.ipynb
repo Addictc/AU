{
 "cells": [
  {
   "cell_type": "code",
   "execution_count": 10,
   "metadata": {},
   "outputs": [
    {
     "name": "stdout",
     "output_type": "stream",
     "text": [
      "2*(3*x + 1) 0 0 2*(3*y + 1)\n",
      "2 0 0 4.00000000000000\n",
      "the determinant of the hesse integral is\n",
      "8.00000000000000\n",
      "local minimum\n"
     ]
    }
   ],
   "source": [
    "from sympy import init_printing\n",
    "init_printing(use_latex = True)\n",
    "from sympy import *\n",
    "\n",
    "a,b,c,d,x,y,z,t= symbols(\"a b c d x y z t\")\n",
    "\n",
    "origin = x**3+x**2+y**3+y**2-y\n",
    "crit = 0,1/3\n",
    "\n",
    "hesse = a,b,c,d\n",
    "\n",
    "\n",
    "a = diff(origin,x,x)\n",
    "b = diff(origin,x,y)\n",
    "c = diff(origin,x,y)\n",
    "d = diff(origin,y,y)\n",
    "\n",
    "ain = a.subs([(x,crit[0]),(y,crit[1])])\n",
    "bins = b.subs([(x,crit[0]),(y,crit[1])])\n",
    "cin = c.subs([(x,crit[0]),(y,crit[1])])\n",
    "din = d.subs([(x,crit[0]),(y,crit[1])])\n",
    "\n",
    "print(a,b,c,d)\n",
    "\n",
    "print(ain,bins,cin,din)\n",
    "\n",
    "\n",
    "det = ain*din-bins*cin\n",
    "print(\"the determinant of the hesse integral is\")\n",
    "print(det)\n",
    "\n",
    "if det > 0 and ain > 0:\n",
    "    print(\"local minimum\")\n",
    "elif det > 0 and ain < 0:\n",
    "    print(\"local maximum\")\n",
    "elif det < 0:\n",
    "    print(\"saddel\")\n",
    "else:\n",
    "    print(\"no info\")\n",
    "\n"
   ]
  },
  {
   "cell_type": "code",
   "execution_count": null,
   "metadata": {},
   "outputs": [],
   "source": []
  }
 ],
 "metadata": {
  "kernelspec": {
   "display_name": "Python 3",
   "language": "python",
   "name": "python3"
  },
  "language_info": {
   "codemirror_mode": {
    "name": "ipython",
    "version": 3
   },
   "file_extension": ".py",
   "mimetype": "text/x-python",
   "name": "python",
   "nbconvert_exporter": "python",
   "pygments_lexer": "ipython3",
   "version": "3.8.3"
  }
 },
 "nbformat": 4,
 "nbformat_minor": 4
}
