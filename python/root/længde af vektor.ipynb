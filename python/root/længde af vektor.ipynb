{
 "cells": [
  {
   "cell_type": "code",
   "execution_count": 13,
   "metadata": {},
   "outputs": [
    {
     "name": "stdout",
     "output_type": "stream",
     "text": [
      "2d length = sqrt(5)\n"
     ]
    }
   ],
   "source": [
    "from sympy import init_printing\n",
    "init_printing(use_latex = True)\n",
    "from sympy import *\n",
    "\n",
    "vec = 2,1\n",
    "vlen = sqrt(vec[0]**2+vec[1]**2)\n",
    "print(\"2d length =\",vlen)\n",
    "\n",
    "#vlen3d = sqrt(vec[0]**2+vec[1]**2+vec[2]**2)\n",
    "\n"
   ]
  },
  {
   "cell_type": "code",
   "execution_count": null,
   "metadata": {},
   "outputs": [],
   "source": []
  }
 ],
 "metadata": {
  "kernelspec": {
   "display_name": "Python 3",
   "language": "python",
   "name": "python3"
  },
  "language_info": {
   "codemirror_mode": {
    "name": "ipython",
    "version": 3
   },
   "file_extension": ".py",
   "mimetype": "text/x-python",
   "name": "python",
   "nbconvert_exporter": "python",
   "pygments_lexer": "ipython3",
   "version": "3.8.3"
  }
 },
 "nbformat": 4,
 "nbformat_minor": 4
}
