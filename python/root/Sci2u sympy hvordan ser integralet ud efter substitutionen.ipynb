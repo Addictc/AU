{
 "cells": [
  {
   "cell_type": "code",
   "execution_count": 118,
   "metadata": {},
   "outputs": [
    {
     "data": {
      "image/png": "[encoded data removed]",
      "text/latex": [
       "$\\displaystyle \\int\\limits_{0}^{0.5} \\left(- \\frac{\\log{\\left(2 x \\right)}}{x}\\right)\\, dx$"
      ],
      "text/plain": [
       "0.5              \n",
       " ⌠               \n",
       " ⎮  -log(2⋅x)    \n",
       " ⎮  ────────── dx\n",
       " ⎮      x        \n",
       " ⌡               \n",
       " 0               "
      ]
     },
     "metadata": {},
     "output_type": "display_data"
    },
    {
     "name": "stdout",
     "output_type": "stream",
     "text": [
      "\\int\\limits_{0}^{0.5} \\left(- \\frac{\\log{\\left(2 x \\right)}}{x}\\right)\\, dx\n",
      "u = 2*x\n"
     ]
    },
    {
     "data": {
      "image/png": "[encoded data removed]",
      "text/latex": [
       "$\\displaystyle \\frac{du}{dx} = 2$"
      ],
      "text/plain": [
       "du    \n",
       "── = 2\n",
       "dx    "
      ]
     },
     "metadata": {},
     "output_type": "display_data"
    },
    {
     "name": "stdout",
     "output_type": "stream",
     "text": [
      "1/2\n",
      "new bottom limit is now [0] and the new top [1.00000000000000]\n",
      "final solution is therefore:\n"
     ]
    },
    {
     "data": {
      "image/png": "[encoded data removed]",
      "text/latex": [
       "$\\displaystyle \\int\\limits_{0}^{1.0} \\left(- \\frac{\\log{\\left(u \\right)}}{u}\\right)\\, du$"
      ],
      "text/plain": [
       "1.0            \n",
       " ⌠             \n",
       " ⎮  -log(u)    \n",
       " ⎮  ──────── du\n",
       " ⎮     u       \n",
       " ⌡             \n",
       " 0             "
      ]
     },
     "metadata": {},
     "output_type": "display_data"
    },
    {
     "name": "stdout",
     "output_type": "stream",
     "text": [
      "\\int\\limits_{0}^{1.0} \\left(- \\frac{\\log{\\left(u \\right)}}{u}\\right)\\, du\n"
     ]
    }
   ],
   "source": [
    "#Sympy script til løsning af opgaver af typen\n",
    "#Hvordan ser integralet\n",
    "#*Integral her.*\n",
    "#Ud efter substitutionen\n",
    "#*u eller t substitution her.*\n",
    "\n",
    "from sympy import init_printing\n",
    "init_printing(use_latex = True)\n",
    "\n",
    "from sympy import *\n",
    "\n",
    "x, u, du, dx= symbols(\"x u du dx\")\n",
    "#insert integral and u here\n",
    "origin = -log(2*x)/x\n",
    "v = 2*x\n",
    "#Lower and upper bounds \n",
    "limb = 0 \n",
    "limt = 0.5\n",
    "\n",
    "originint = Integral(origin, (x, limb, limt))\n",
    "\n",
    "display(originint)\n",
    "print(latex(Integral(origin, (x, limb, limt))))\n",
    "\n",
    "dv = diff(v,x)\n",
    "\n",
    "print('u =',v)\n",
    "\n",
    "dudx = Eq(du*dx**-1, dv)\n",
    "\n",
    "display(dudx)\n",
    "\n",
    "dudv = dv**-1\n",
    "print(dudv)\n",
    "\n",
    "dxtodu = origin*dudv\n",
    "\n",
    "newlimb = ([v.subs(x,limb)])\n",
    "newlimt = ([v.subs(x,limt)])\n",
    "print('new bottom limit is now',newlimb,'and the new top',newlimt)\n",
    "\n",
    "newint = Integral(dxtodu,(u,newlimb,newlimt))\n",
    "newintsub = newint.subs(v,u)\n",
    "\n",
    "print('final solution is therefore:')\n",
    "display(newintsub)\n",
    "print(latex(newintsub))\n"
   ]
  },
  {
   "cell_type": "code",
   "execution_count": null,
   "metadata": {},
   "outputs": [],
   "source": []
  },
  {
   "cell_type": "code",
   "execution_count": null,
   "metadata": {},
   "outputs": [],
   "source": []
  }
 ],
 "metadata": {
  "kernelspec": {
   "display_name": "Python 3",
   "language": "python",
   "name": "python3"
  },
  "language_info": {
   "codemirror_mode": {
    "name": "ipython",
    "version": 3
   },
   "file_extension": ".py",
   "mimetype": "text/x-python",
   "name": "python",
   "nbconvert_exporter": "python",
   "pygments_lexer": "ipython3",
   "version": "3.8.3"
  }
 },
 "nbformat": 4,
 "nbformat_minor": 4
}
