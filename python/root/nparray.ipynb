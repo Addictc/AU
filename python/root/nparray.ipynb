{
 "cells": [
  {
   "cell_type": "code",
   "execution_count": null,
   "metadata": {},
   "outputs": [],
   "source": [
    "import numpy as np\n",
    "\n",
    "A = np.array([[1, 4, 5, 12],\n",
    "    [-5, 8, 9, 0],\n",
    "    [-6, 7, 11, 19]])\n",
    "\n",
    "#  First element of first row\n",
    "print(\"A[0][0] =\", A[0][0])  \n",
    "\n",
    "# Third element of second row\n",
    "print(\"A[1][2] =\", A[1][2])\n",
    "\n",
    "# Last element of last row\n",
    "print(\"A[-1][-1] =\", A[-1][-1]) \n",
    "\n",
    "\n",
    "print(\"A[:,0] =\",A[:,0]) # First Column\n",
    "print(\"A[:,3] =\", A[:,3]) # Fourth Column\n",
    "print(\"A[:,-1] =\", A[:,-1]) # Last Column (4th column in this case)\n",
    "\n",
    "\n"
   ]
  }
 ],
 "metadata": {
  "kernelspec": {
   "display_name": "Python 3",
   "language": "python",
   "name": "python3"
  },
  "language_info": {
   "codemirror_mode": {
    "name": "ipython",
    "version": 3
   },
   "file_extension": ".py",
   "mimetype": "text/x-python",
   "name": "python",
   "nbconvert_exporter": "python",
   "pygments_lexer": "ipython3",
   "version": "3.8.3"
  }
 },
 "nbformat": 4,
 "nbformat_minor": 4
}
