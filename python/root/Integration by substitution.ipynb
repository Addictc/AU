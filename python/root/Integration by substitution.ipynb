{
 "cells": [
  {
   "cell_type": "code",
   "execution_count": 9,
   "metadata": {
    "scrolled": false
   },
   "outputs": [
    {
     "name": "stdout",
     "output_type": "stream",
     "text": [
      "\\begin{equation}\\int\\limits_{0}^{0.5} \\left(- \\frac{\\log{\\left(2 x \\right)}}{x}\\right)\\, dx\\end{equation}\n",
      "u = 2*x\n",
      "1/2\n",
      "new bottom limit is now [0] and the new top [1.00000000000000]\n",
      "final solution is therefore:\n"
     ]
    },
    {
     "data": {
      "image/png": "[encoded data removed]",
      "text/latex": [
       "$\\displaystyle \\int\\limits_{0}^{1.0} \\left(- \\frac{\\log{\\left(u \\right)}}{u}\\right)\\, du$"
      ],
      "text/plain": [
       "1.0            \n",
       " ⌠             \n",
       " ⎮  -log(u)    \n",
       " ⎮  ──────── du\n",
       " ⎮     u       \n",
       " ⌡             \n",
       " 0             "
      ]
     },
     "metadata": {},
     "output_type": "display_data"
    },
    {
     "name": "stdout",
     "output_type": "stream",
     "text": [
      "\\begin{equation}\\int\\limits_{0}^{1.0} \\left(- \\frac{\\log{\\left(u \\right)}}{u}\\right)\\, du\\end{equation}\n"
     ]
    }
   ],
   "source": [
    "#Script to standardize integration by substitution\n",
    "\n",
    "\n",
    "from sympy import init_printing\n",
    "init_printing(use_latex = True)\n",
    "\n",
    "from sympy import *\n",
    "\n",
    "x,y,z,u, du, dx= symbols(\"x y z u du dx\")\n",
    "\n",
    "\n",
    "#insert integral and u here\n",
    "origin = -log(2*x)/x\n",
    "v = 2*x\n",
    "#Lower and upper bounds \n",
    "limb = 0 \n",
    "limt = 0.5\n",
    "\n",
    "\n",
    "prijgiven the integral\n",
    "\n",
    "originint = Integral(origin, (x, limb, limt))\n",
    "\n",
    "print(latex((Integral(origin, (x, limb, limt))),mode='equation'))\n",
    "\n",
    "dv = diff(v,x)\n",
    "\n",
    "print('u =',v)\n",
    "\n",
    "dudx = Eq(du*dx**-1, dv)\n",
    "dudv = dv**-1\n",
    "print(dudv)\n",
    "\n",
    "dxtodu = origin*dudv\n",
    "\n",
    "newlimb = ([v.subs(x,limb)])\n",
    "newlimt = ([v.subs(x,limt)])\n",
    "print('new bottom limit is now',newlimb,'and the new top',newlimt)\n",
    "\n",
    "newint = Integral(dxtodu,(u,newlimb,newlimt))\n",
    "newintsub = newint.subs(v,u)\n",
    "\n",
    "print('final solution is therefore:')\n",
    "display(newintsub)\n",
    "print(latex((newintsub),mode='equation'))\n",
    "\n",
    "\n"
   ]
  },
  {
   "cell_type": "code",
   "execution_count": 1,
   "metadata": {},
   "outputs": [
    {
     "name": "stdout",
     "output_type": "stream",
     "text": [
      "given the integral\n",
      "\\begin{equation}\\int\\limits_{0}^{0.5} \\left(- \\frac{\\log{\\left(2 x \\right)}}{x}\\right)\\, dx\\end{equation}\n",
      "integration by substitution is performed by selecting\n",
      "u = 2*x\n",
      "$u$ is then differentiated and the expression for $\\mathrm{d}x$ is isolated\n",
      "\f",
      "rac{\\mathrm{d}u)}{\\mathrm{d}x}= \\begin{equation}2\\end{equation}\n",
      "1/2\n",
      "new bottom limit is now [0] and the new top [1.00000000000000]\n",
      "After substitution the integral looks like:\n",
      "\\begin{equation}\\int\\limits_{0}^{1.0} \\left(- \\frac{\\log{\\left(u \\right)}}{u}\\right)\\, du\\end{equation}\n"
     ]
    }
   ],
   "source": [
    "#Script to standardize integration by substitution\n",
    "\n",
    "\n",
    "from sympy import init_printing\n",
    "init_printing(use_latex = True)\n",
    "\n",
    "from sympy import *\n",
    "\n",
    "x,y,z,u, du, dx= symbols(\"x y z u du dx\")\n",
    "\n",
    "\n",
    "#insert integral and u here\n",
    "origin = -log(2*x)/x\n",
    "v = 2*x\n",
    "#Lower and upper bounds \n",
    "\n",
    "limb = 0 \n",
    "limt = 0.5\n",
    "\n",
    "\n",
    "print('given the integral')\n",
    "\n",
    "originint = Integral(origin, (x, limb, limt))\n",
    "\n",
    "print(latex((Integral(origin, (x, limb, limt))),mode='equation'))\n",
    "\n",
    "print('integration by substitution is performed by selecting')\n",
    "print('u =',v)\n",
    "\n",
    "print('$u$ is then differentiated and the expression for $\\mathrm{d}x$ is isolated')\n",
    "dv = diff(v,x)\n",
    "\n",
    "dudx = Eq(du*dx**-1, dv)\n",
    "\n",
    "print('\\frac{\\mathrm{d}u)}{\\mathrm{d}x}=',latex((dv),mode='equation'))\n",
    "\n",
    "\n",
    "\n",
    "dudv = dv**-1\n",
    "print(dudv)\n",
    "\n",
    "dxtodu = origin*dudv\n",
    "\n",
    "newlimb = ([v.subs(x,limb)])\n",
    "newlimt = ([v.subs(x,limt)])\n",
    "print('new bottom limit is now',newlimb,'and the new top',newlimt)\n",
    "\n",
    "newint = Integral(dxtodu,(u,newlimb,newlimt))\n",
    "newintsub = newint.subs(v,u)\n",
    "\n",
    "print('After substitution the integral looks like:')\n",
    "print(latex((newintsub),mode='equation'))\n",
    "\n",
    "\n",
    "\n",
    "\n",
    "\n"
   ]
  },
  {
   "cell_type": "code",
   "execution_count": null,
   "metadata": {},
   "outputs": [],
   "source": []
  }
 ],
 "metadata": {
  "kernelspec": {
   "display_name": "Python 3",
   "language": "python",
   "name": "python3"
  },
  "language_info": {
   "codemirror_mode": {
    "name": "ipython",
    "version": 3
   },
   "file_extension": ".py",
   "mimetype": "text/x-python",
   "name": "python",
   "nbconvert_exporter": "python",
   "pygments_lexer": "ipython3",
   "version": "3.8.3"
  }
 },
 "nbformat": 4,
 "nbformat_minor": 4
}
