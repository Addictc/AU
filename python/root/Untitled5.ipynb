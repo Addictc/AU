{
 "cells": [
  {
   "cell_type": "code",
   "execution_count": 18,
   "metadata": {},
   "outputs": [
    {
     "name": "stdout",
     "output_type": "stream",
     "text": [
      "grad= 2*x - 4 2*y - 4\n",
      "[2] {y: 2}\n",
      "0\n"
     ]
    },
    {
     "data": {
      "image/png": "[encoded data removed]",
      "text/plain": [
       "<Figure size 432x288 with 1 Axes>"
      ]
     },
     "metadata": {
      "needs_background": "light"
     },
     "output_type": "display_data"
    },
    {
     "name": "stdout",
     "output_type": "stream",
     "text": [
      "0\n"
     ]
    }
   ],
   "source": [
    "from sympy import init_printing\n",
    "init_printing(use_latex = True)\n",
    "from sympy import *\n",
    "import numpy as np\n",
    "import matplotlib.pyplot as plt\n",
    "\n",
    "from sympy.abc import x,y,z,a,b,c,d\n",
    "\n",
    "fxy=x**2-4*x+y**2-4*y+8\n",
    "\n",
    "fx=diff(fxy,x)\n",
    "fy=diff(fxy,y)\n",
    "\n",
    "print(\"grad=\",fx,fy)\n",
    "eqx=Eq(fx,0)\n",
    "eqy=Eq=(fy,0)\n",
    "solx=solve(eqx,x)\n",
    "soly=solve(eqy,y)\n",
    "print(solx,soly)\n",
    "test=fxy.subs([(y,2),(x,2)])\n",
    "print(test)\n",
    "\n",
    "plot(test)\n",
    "test2=diff(test,x)\n",
    "print(test2)"
   ]
  },
  {
   "cell_type": "code",
   "execution_count": null,
   "metadata": {},
   "outputs": [],
   "source": []
  }
 ],
 "metadata": {
  "kernelspec": {
   "display_name": "Python 3",
   "language": "python",
   "name": "python3"
  },
  "language_info": {
   "codemirror_mode": {
    "name": "ipython",
    "version": 3
   },
   "file_extension": ".py",
   "mimetype": "text/x-python",
   "name": "python",
   "nbconvert_exporter": "python",
   "pygments_lexer": "ipython3",
   "version": "3.8.3"
  }
 },
 "nbformat": 4,
 "nbformat_minor": 4
}
