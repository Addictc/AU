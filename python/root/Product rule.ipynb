{
 "cells": [
  {
   "cell_type": "code",
   "execution_count": 3,
   "metadata": {},
   "outputs": [
    {
     "data": {
      "image/png": "[encoded data removed]",
      "text/latex": [
       "$\\displaystyle x^{2} e^{x y}$"
      ],
      "text/plain": [
       " 2  x⋅y\n",
       "x ⋅ℯ   "
      ]
     },
     "metadata": {},
     "output_type": "display_data"
    }
   ],
   "source": [
    "\n",
    "from sympy import init_printing\n",
    "init_printing(use_latex = True)\n",
    "\n",
    "from sympy import *\n",
    "\n",
    "x,y,z,t,a,b,c,d= symbols(\"x y z t a b c d\")\n",
    "\n",
    "#insert the two functions inside the integral here a*b\n",
    "a = x\n",
    "b = exp(x*y)\n",
    "var = y\n",
    "\n",
    "prodrule = diff(a,var)*b+a*diff(b,var)\n",
    "\n",
    "display(prodrule)\n"
   ]
  },
  {
   "cell_type": "code",
   "execution_count": null,
   "metadata": {},
   "outputs": [],
   "source": []
  }
 ],
 "metadata": {
  "kernelspec": {
   "display_name": "Python 3",
   "language": "python",
   "name": "python3"
  },
  "language_info": {
   "codemirror_mode": {
    "name": "ipython",
    "version": 3
   },
   "file_extension": ".py",
   "mimetype": "text/x-python",
   "name": "python",
   "nbconvert_exporter": "python",
   "pygments_lexer": "ipython3",
   "version": "3.8.3"
  }
 },
 "nbformat": 4,
 "nbformat_minor": 4
}
