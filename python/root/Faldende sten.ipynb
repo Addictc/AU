{
 "cells": [
  {
   "cell_type": "code",
   "execution_count": 12,
   "metadata": {
    "scrolled": false
   },
   "outputs": [
    {
     "data": {
      "image/png": "[encoded data removed]",
      "text/plain": [
       "<Figure size 432x288 with 1 Axes>"
      ]
     },
     "metadata": {
      "needs_background": "light"
     },
     "output_type": "display_data"
    },
    {
     "data": {
      "text/plain": [
       "<sympy.plotting.plot.Plot at 0x28158539bb0>"
      ]
     },
     "execution_count": 12,
     "metadata": {},
     "output_type": "execute_result"
    }
   ],
   "source": [
    "from sympy.plotting import plot \n",
    "from sympy import * \n",
    "\n",
    "\n",
    "x = Symbol('x')\n",
    "G=6.674*10**(-11)\n",
    "M=5.972*10**(24)\n",
    "m=1\n",
    "r=6.37*10**6\n",
    "\n",
    "F = ((G*(M*m))/((r-x)**2))\n",
    "epot=m*F*(-x)\n",
    "plot(epot,(x,-100000,-10000),axis_center=(0,0),xlim=(-120000,0),ylim=(0,1000000))\n",
    "\n",
    "\n",
    "\n"
   ]
  },
  {
   "cell_type": "code",
   "execution_count": 10,
   "metadata": {},
   "outputs": [
    {
     "name": "stdout",
     "output_type": "stream",
     "text": [
      "952132.610622323\n",
      "97918.47564391073\n",
      "854214.1349784123 J\n",
      "1307.1 m/s\n",
      "4705.4 km/h\n"
     ]
    }
   ],
   "source": [
    "from sympy import *   \n",
    "x,v = symbols('x v')\n",
    "  # man kan også istedet skrive f = x**(1/2)   \n",
    "G=6.674*10**(-11)\n",
    "M=5.972*10**(24)\n",
    "m=1\n",
    "r=6.37*10**6\n",
    "\n",
    "F1 = ((G*(M*m))/((r+100000)**2))\n",
    "F2 = ((G*(M*m))/((r+10000)**2))\n",
    "epot1=m*F1*100000\n",
    "epot2=m*F2*10000\n",
    "print(epot1)\n",
    "print(epot2)\n",
    "etot=epot1-epot2\n",
    "\n",
    "print(etot,'J')\n",
    "\n",
    "v10=solve(Eq(etot,1/2*m*v**2),v)\n",
    "\n",
    "solkmh=sol[1]*3.6\n",
    "\n",
    "print(v10[1].evalf(5),'m/s')\n",
    "print(solkmh.evalf(5),'km/h')\n",
    "\n",
    "\n"
   ]
  },
  {
   "cell_type": "code",
   "execution_count": 30,
   "metadata": {},
   "outputs": [
    {
     "name": "stdout",
     "output_type": "stream",
     "text": [
      "[-g + 0.0013*v**2/m]\n"
     ]
    },
    {
     "ename": "TypeError",
     "evalue": "'NoneType' object is not iterable",
     "output_type": "error",
     "traceback": [
      "\u001b[1;31m---------------------------------------------------------------------------\u001b[0m",
      "\u001b[1;31mTypeError\u001b[0m                                 Traceback (most recent call last)",
      "\u001b[1;32m<ipython-input-30-bb4347ce9b14>\u001b[0m in \u001b[0;36m<module>\u001b[1;34m\u001b[0m\n\u001b[0;32m     11\u001b[0m \u001b[0mprint\u001b[0m\u001b[1;33m(\u001b[0m\u001b[0mans2\u001b[0m\u001b[1;33m)\u001b[0m\u001b[1;33m\u001b[0m\u001b[1;33m\u001b[0m\u001b[0m\n\u001b[0;32m     12\u001b[0m \u001b[1;31m#så A=0.0013 og C=9.82=g\u001b[0m\u001b[1;33m\u001b[0m\u001b[1;33m\u001b[0m\u001b[1;33m\u001b[0m\u001b[0m\n\u001b[1;32m---> 13\u001b[1;33m \u001b[0mplot\u001b[0m\u001b[1;33m(\u001b[0m\u001b[0mans2\u001b[0m\u001b[1;33m,\u001b[0m\u001b[1;33m(\u001b[0m\u001b[0mv\u001b[0m\u001b[1;33m,\u001b[0m\u001b[1;36m0\u001b[0m\u001b[1;33m,\u001b[0m\u001b[1;36m1500\u001b[0m\u001b[1;33m)\u001b[0m\u001b[1;33m)\u001b[0m\u001b[1;33m\u001b[0m\u001b[1;33m\u001b[0m\u001b[0m\n\u001b[0m",
      "\u001b[1;32m~\\anaconda3\\lib\\site-packages\\sympy\\plotting\\plot.py\u001b[0m in \u001b[0;36mplot\u001b[1;34m(*args, **kwargs)\u001b[0m\n\u001b[0;32m   1640\u001b[0m     \u001b[0mseries\u001b[0m \u001b[1;33m=\u001b[0m \u001b[1;33m[\u001b[0m\u001b[1;33m]\u001b[0m\u001b[1;33m\u001b[0m\u001b[1;33m\u001b[0m\u001b[0m\n\u001b[0;32m   1641\u001b[0m     \u001b[0mplot_expr\u001b[0m \u001b[1;33m=\u001b[0m \u001b[0mcheck_arguments\u001b[0m\u001b[1;33m(\u001b[0m\u001b[0margs\u001b[0m\u001b[1;33m,\u001b[0m \u001b[1;36m1\u001b[0m\u001b[1;33m,\u001b[0m \u001b[1;36m1\u001b[0m\u001b[1;33m)\u001b[0m\u001b[1;33m\u001b[0m\u001b[1;33m\u001b[0m\u001b[0m\n\u001b[1;32m-> 1642\u001b[1;33m     \u001b[0mseries\u001b[0m \u001b[1;33m=\u001b[0m \u001b[1;33m[\u001b[0m\u001b[0mLineOver1DRangeSeries\u001b[0m\u001b[1;33m(\u001b[0m\u001b[1;33m*\u001b[0m\u001b[0marg\u001b[0m\u001b[1;33m,\u001b[0m \u001b[1;33m**\u001b[0m\u001b[0mkwargs\u001b[0m\u001b[1;33m)\u001b[0m \u001b[1;32mfor\u001b[0m \u001b[0marg\u001b[0m \u001b[1;32min\u001b[0m \u001b[0mplot_expr\u001b[0m\u001b[1;33m]\u001b[0m\u001b[1;33m\u001b[0m\u001b[1;33m\u001b[0m\u001b[0m\n\u001b[0m\u001b[0;32m   1643\u001b[0m \u001b[1;33m\u001b[0m\u001b[0m\n\u001b[0;32m   1644\u001b[0m     \u001b[0mplots\u001b[0m \u001b[1;33m=\u001b[0m \u001b[0mPlot\u001b[0m\u001b[1;33m(\u001b[0m\u001b[1;33m*\u001b[0m\u001b[0mseries\u001b[0m\u001b[1;33m,\u001b[0m \u001b[1;33m**\u001b[0m\u001b[0mkwargs\u001b[0m\u001b[1;33m)\u001b[0m\u001b[1;33m\u001b[0m\u001b[1;33m\u001b[0m\u001b[0m\n",
      "\u001b[1;31mTypeError\u001b[0m: 'NoneType' object is not iterable"
     ]
    }
   ],
   "source": [
    "from sympy import *\n",
    "from sympy.plotting import plot \n",
    "a,m,g,v=symbols('a m g v')\n",
    "\n",
    "D = 1.3*10**(-3)\n",
    "F_t= m*g\n",
    "F_gnid= D*v**2\n",
    "\n",
    "ans2 = solve(Eq(m*a,F_gnid-F_t),a)\n",
    "\n",
    "print(ans2)\n",
    "#så A=0.0013 og C=9.82=g\n",
    "plot(ans2,(v,0,1500))"
   ]
  },
  {
   "cell_type": "code",
   "execution_count": 35,
   "metadata": {},
   "outputs": [
    {
     "name": "stdout",
     "output_type": "stream",
     "text": [
      "-sqrt(-1/(A*C))*log(-C*sqrt(-1/(A*C)) + v)/2 + sqrt(-1/(A*C))*log(C*sqrt(-1/(A*C)) + v)/2\n"
     ]
    }
   ],
   "source": [
    "from sympy import *\n",
    "A,C,v=symbols('A,C,v')\n",
    "\n",
    "f=1/(A*v**2+C)\n",
    "\n",
    "result=integrate(f,v)\n",
    "\n",
    "print(result)"
   ]
  },
  {
   "cell_type": "code",
   "execution_count": null,
   "metadata": {},
   "outputs": [],
   "source": []
  }
 ],
 "metadata": {
  "kernelspec": {
   "display_name": "Python 3",
   "language": "python",
   "name": "python3"
  },
  "language_info": {
   "codemirror_mode": {
    "name": "ipython",
    "version": 3
   },
   "file_extension": ".py",
   "mimetype": "text/x-python",
   "name": "python",
   "nbconvert_exporter": "python",
   "pygments_lexer": "ipython3",
   "version": "3.8.3"
  }
 },
 "nbformat": 4,
 "nbformat_minor": 4
}
