{
 "cells": [
  {
   "cell_type": "code",
   "execution_count": 10,
   "metadata": {},
   "outputs": [
    {
     "name": "stdout",
     "output_type": "stream",
     "text": [
      "fx = 2*x*(x + 1) + (x + 1)**2\n"
     ]
    }
   ],
   "source": [
    "from sympy import init_printing\n",
    "init_printing(use_latex = True)\n",
    "from sympy import *\n",
    "import numpy as np\n",
    "import matplotlib.pyplot as plt\n",
    "\n",
    "from sympy.abc import x,y,z,a,b,c,d\n",
    "\n",
    "fxy = 2*x*y+y**2\n",
    "pinksymb= y\n",
    "pink = x+1\n",
    "\n",
    "fxyn= fxy.subs(pinksymb,pink)\n",
    "\n",
    "print(\"fxy =\",fxyn)\n",
    "\n",
    "\n"
   ]
  },
  {
   "cell_type": "code",
   "execution_count": null,
   "metadata": {},
   "outputs": [],
   "source": []
  }
 ],
 "metadata": {
  "kernelspec": {
   "display_name": "Python 3",
   "language": "python",
   "name": "python3"
  },
  "language_info": {
   "codemirror_mode": {
    "name": "ipython",
    "version": 3
   },
   "file_extension": ".py",
   "mimetype": "text/x-python",
   "name": "python",
   "nbconvert_exporter": "python",
   "pygments_lexer": "ipython3",
   "version": "3.8.3"
  }
 },
 "nbformat": 4,
 "nbformat_minor": 4
}
