{
 "cells": [
  {
   "cell_type": "code",
   "execution_count": 109,
   "metadata": {},
   "outputs": [
    {
     "name": "stdout",
     "output_type": "stream",
     "text": [
      "f(x,y) = 2*x**2 - 4*x - 2*y**2 + 4*y + 3\n",
      "nabla f(x,y) = ( 4*x - 4 , 4 - 4*y )\n",
      "[1] [1]\n",
      "val= 3\n",
      "m= -13\n",
      "M= 19\n"
     ]
    }
   ],
   "source": [
    "\n",
    "#sci2u på området er følgende funktion defineret angiv den mindste værdi m og den største værdi M som f antager på mængden\n",
    "\n",
    "from sympy import init_printing\n",
    "init_printing(use_latex = True)\n",
    "from sympy import *\n",
    "import numpy as np\n",
    "import matplotlib.pyplot as plt\n",
    "\n",
    "from sympy.abc import x,y,z,a,b,c,d\n",
    "\n",
    "fxy = 2*x**2-4*x-2*y**2+4*y+3\n",
    "vvarmin=0\n",
    "vvarmax=4\n",
    "sinvarval=-x+4\n",
    "sinvar=y\n",
    "rangevar=x\n",
    "\n",
    "print(\"f(x,y) =\",fxy)\n",
    "\n",
    "fxyx = diff(fxy,x)\n",
    "fxyy = diff(fxy,y)\n",
    "\n",
    "print(\"nabla f(x,y) = (\",fxyx,\",\",fxyy,\")\")\n",
    "\n",
    "\n",
    "fxyxeq = Eq(fxyx,0)\n",
    "fxyyeq = Eq(fxyy,0)\n",
    "\n",
    "solx=solve(fxyxeq,x)\n",
    "soly=solve(fxyyeq,y)\n",
    "print(solx,soly)\n",
    "\n",
    "difval=fxy.subs([(x,solx[0]),(y,soly[0])])\n",
    "\n",
    "print(\"val=\",difval)\n",
    "\n",
    "\n",
    "minval=fxy.subs([(y,sinvarval),(x,vvarmin)])\n",
    "print(\"m=\",minval)\n",
    "maxval=fxy.subs([(y,sinvarval),(x,vvarmax)])\n",
    "\n",
    "print(\"M=\",maxval)"
   ]
  },
  {
   "cell_type": "code",
   "execution_count": null,
   "metadata": {},
   "outputs": [],
   "source": []
  }
 ],
 "metadata": {
  "kernelspec": {
   "display_name": "Python 3",
   "language": "python",
   "name": "python3"
  },
  "language_info": {
   "codemirror_mode": {
    "name": "ipython",
    "version": 3
   },
   "file_extension": ".py",
   "mimetype": "text/x-python",
   "name": "python",
   "nbconvert_exporter": "python",
   "pygments_lexer": "ipython3",
   "version": "3.8.3"
  }
 },
 "nbformat": 4,
 "nbformat_minor": 4
}
