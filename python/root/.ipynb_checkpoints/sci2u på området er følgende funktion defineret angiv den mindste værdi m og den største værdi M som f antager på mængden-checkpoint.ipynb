{
 "cells": [
  {
   "cell_type": "code",
   "execution_count": 17,
   "metadata": {},
   "outputs": [
    {
     "name": "stdout",
     "output_type": "stream",
     "text": [
      "f(x,y) = x**2 - 4*x + y**2 - 4*y + 8\n",
      "2*x - 4 2*y - 4\n",
      "-4 2*y - 4\n",
      "[2] [2]\n"
     ]
    }
   ],
   "source": [
    "from sympy import init_printing\n",
    "init_printing(use_latex = True)\n",
    "from sympy import *\n",
    "import numpy as np\n",
    "import matplotlib.pyplot as plt\n",
    "\n",
    "from sympy.abc import x,y,z,a,b,c,d\n",
    "\n",
    "fxy = x**2-4*x+y**2-4*y+8\n",
    "pink = 0\n",
    "\n",
    "fxyn= fxy.subs(x,pink)\n",
    "\n",
    "print(\"f(x,y) =\",fxy)\n",
    "\n",
    "fxyx = diff(fxy,x)\n",
    "fxyy = diff(fxy,y)\n",
    "\n",
    "fxyxeq = Eq(fxyx,0)\n",
    "fxyyeq = Eq(fxyy,0)\n",
    "\n",
    "sol1 = solve(fxyxeq,x)\n",
    "sol2 = solve(fxyyeq,y)\n",
    "print(fxyx,fxyy)\n",
    "print(fxyxsub,fxyysub)\n",
    "\n",
    "print(sol1,sol2)"
   ]
  },
  {
   "cell_type": "code",
   "execution_count": null,
   "metadata": {},
   "outputs": [],
   "source": []
  }
 ],
 "metadata": {
  "kernelspec": {
   "display_name": "Python 3",
   "language": "python",
   "name": "python3"
  },
  "language_info": {
   "codemirror_mode": {
    "name": "ipython",
    "version": 3
   },
   "file_extension": ".py",
   "mimetype": "text/x-python",
   "name": "python",
   "nbconvert_exporter": "python",
   "pygments_lexer": "ipython3",
   "version": "3.8.3"
  }
 },
 "nbformat": 4,
 "nbformat_minor": 4
}
