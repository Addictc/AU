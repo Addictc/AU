{
 "cells": [
  {
   "cell_type": "code",
   "execution_count": 29,
   "metadata": {},
   "outputs": [
    {
     "name": "stdout",
     "output_type": "stream",
     "text": [
      "y x\n",
      "-2 -1\n",
      "sqrt(2)/2\n"
     ]
    }
   ],
   "source": [
    "\n",
    "from sympy import init_printing\n",
    "init_printing(use_latex = True)\n",
    "\n",
    "from sympy import *\n",
    "\n",
    "x,y,z,t,a,b,c,d= symbols(\"x y z t a b c d\")\n",
    "\n",
    "#insert the function\n",
    "f= x*y\n",
    "#point\n",
    "pt = -1,-2\n",
    "#dir\n",
    "u=2\n",
    "directlen = 1/sqrt(u)\n",
    "direct = -1,1\n",
    "\n",
    "\n",
    "fx = diff(f,x)\n",
    "fy = diff(f,y)\n",
    "print(fx,fy)\n",
    "\n",
    "\n",
    "\n",
    "gradx = fx.subs([(x,pt[0]),(y,pt[1])])\n",
    "grady = fy.subs([(x,pt[0]),(y,pt[1])])\n",
    "print(gradx,grady)\n",
    "\n",
    "#gradlen = sqrt(gradx**2+grady**2)\n",
    "\n",
    "scalar = (gradx*direct[0]+grady*direct[1])*directlen\n",
    "\n",
    "print(scalar)\n",
    "\n",
    "\n",
    "\n"
   ]
  },
  {
   "cell_type": "code",
   "execution_count": null,
   "metadata": {},
   "outputs": [],
   "source": []
  }
 ],
 "metadata": {
  "kernelspec": {
   "display_name": "Python 3",
   "language": "python",
   "name": "python3"
  },
  "language_info": {
   "codemirror_mode": {
    "name": "ipython",
    "version": 3
   },
   "file_extension": ".py",
   "mimetype": "text/x-python",
   "name": "python",
   "nbconvert_exporter": "python",
   "pygments_lexer": "ipython3",
   "version": "3.8.3"
  }
 },
 "nbformat": 4,
 "nbformat_minor": 4
}
