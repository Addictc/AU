{
 "cells": [
  {
   "cell_type": "code",
   "execution_count": 2,
   "metadata": {},
   "outputs": [
    {
     "data": {
      "image/png": "[encoded data removed]",
      "text/latex": [
       "$\\displaystyle \\int\\limits_{1}^{x} \\left(t + 6\\right)\\, dt$"
      ],
      "text/plain": [
       "x           \n",
       "⌠           \n",
       "⎮ (t + 6) dt\n",
       "⌡           \n",
       "1           "
      ]
     },
     "metadata": {},
     "output_type": "display_data"
    },
    {
     "name": "stdout",
     "output_type": "stream",
     "text": [
      "\\int\\limits_{1}^{x} \\left(t + 6\\right)\\, dt\n"
     ]
    },
    {
     "data": {
      "image/png": "[encoded data removed]",
      "text/latex": [
       "$\\displaystyle x + 6$"
      ],
      "text/plain": [
       "x + 6"
      ]
     },
     "metadata": {},
     "output_type": "display_data"
    }
   ],
   "source": [
    "#Sympy script til løsning af opgaver af typen\n",
    "#Givet\n",
    "#*Integral her.*\n",
    "#find df(x)/dx ved hjælp af differentialreghningens fundamentalsætning\n",
    "\n",
    "\n",
    "from sympy import init_printing\n",
    "init_printing(use_latex = True)\n",
    "\n",
    "from sympy import *\n",
    "\n",
    "x,t,dt= symbols(\"x,t,dt\")\n",
    "#insert integral here\n",
    "origin = t+6\n",
    "#Lower and upper bounds \n",
    "limb = 1 \n",
    "limt = x\n",
    "\n",
    "fullint = Integral(origin, (t, limb, limt))\n",
    "\n",
    "display(fullint)\n",
    "print(latex(Integral(origin, (t, limb, limt))))\n",
    "\n",
    "diffint = diff(fullint,x)\n",
    "\n",
    "display(diffint)\n",
    "\n"
   ]
  },
  {
   "cell_type": "code",
   "execution_count": null,
   "metadata": {},
   "outputs": [],
   "source": []
  }
 ],
 "metadata": {
  "kernelspec": {
   "display_name": "Python 3",
   "language": "python",
   "name": "python3"
  },
  "language_info": {
   "codemirror_mode": {
    "name": "ipython",
    "version": 3
   },
   "file_extension": ".py",
   "mimetype": "text/x-python",
   "name": "python",
   "nbconvert_exporter": "python",
   "pygments_lexer": "ipython3",
   "version": "3.8.3"
  }
 },
 "nbformat": 4,
 "nbformat_minor": 4
}
