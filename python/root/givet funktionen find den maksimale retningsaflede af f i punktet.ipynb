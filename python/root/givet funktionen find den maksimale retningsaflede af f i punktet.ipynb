{
 "cells": [
  {
   "cell_type": "code",
   "execution_count": 21,
   "metadata": {},
   "outputs": [
    {
     "name": "stdout",
     "output_type": "stream",
     "text": [
      "(4*y, 4*x)\n",
      "2d length = 4*sqrt(5)\n"
     ]
    }
   ],
   "source": [
    "\n",
    "#script til løsning af sci2u opgaver af typen\n",
    "#givet funktionen\n",
    "#find den maksimale retningsafledede af f i punktet\n",
    "\n",
    "\n",
    "#jf sætning 3.16\n",
    "#Lad f : \\mathcal{D}(f) \\to \\mathbb Rf:D(f)→R være en funktion hvis partielt afledede eksisterer og er kontinuerte. \n",
    "#Da gælder, at den maksimale værdi af den retningsafledte D_{\\bar{u}}f(x,y)\n",
    "#er længden ∥∇f(x,y)∥ af gradienten, og denne antages, når enhedsvektoren \\bar{u}\n",
    "#har samme retning som gradienten ∇f(x,y)\n",
    "\n",
    "\n",
    "\n",
    "from sympy import init_printing\n",
    "init_printing(use_latex = True)\n",
    "from sympy import *\n",
    "\n",
    "x,y,z,t= symbols(\"x y z t\")\n",
    "\n",
    "#funtion \n",
    "origin = 4*x*y\n",
    "#variable values for defined point\n",
    "xval = 2\n",
    "yval = -1\n",
    "\n",
    "\n",
    "\n",
    "Dx = diff(origin,x)\n",
    "Dy = diff(origin,y)\n",
    "\n",
    "grad = (Dx, Dy)\n",
    "print(grad)\n",
    "\n",
    "gradx = grad[0].subs([(x,xval),(y,yval)])\n",
    "grady = grad[1].subs([(x,xval),(y,yval)])\n",
    "vlen = sqrt(gradx**2+grady**2)\n",
    "\n",
    "\n",
    "print(\"result =\",vlen)\n",
    "\n",
    "\n"
   ]
  },
  {
   "cell_type": "code",
   "execution_count": 9,
   "metadata": {},
   "outputs": [
    {
     "name": "stdout",
     "output_type": "stream",
     "text": [
      "4*y\n"
     ]
    }
   ],
   "source": []
  },
  {
   "cell_type": "code",
   "execution_count": null,
   "metadata": {},
   "outputs": [],
   "source": []
  }
 ],
 "metadata": {
  "kernelspec": {
   "display_name": "Python 3",
   "language": "python",
   "name": "python3"
  },
  "language_info": {
   "codemirror_mode": {
    "name": "ipython",
    "version": 3
   },
   "file_extension": ".py",
   "mimetype": "text/x-python",
   "name": "python",
   "nbconvert_exporter": "python",
   "pygments_lexer": "ipython3",
   "version": "3.8.3"
  }
 },
 "nbformat": 4,
 "nbformat_minor": 4
}
