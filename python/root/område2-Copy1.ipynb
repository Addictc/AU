{
 "cells": [
  {
   "cell_type": "code",
   "execution_count": 8,
   "metadata": {},
   "outputs": [
    {
     "name": "stdout",
     "output_type": "stream",
     "text": [
      "f(x,y) = -x**2 + 12*x + y**2 - 4*y - 31\n",
      "nabla f(x,y) = ( 12 - 2*x , 2*y - 4 )\n",
      "[6] [2]\n",
      "val= 1\n",
      "m= -oo\n",
      "M= 33\n"
     ]
    }
   ],
   "source": [
    "\n",
    "#sci2u på området er følgende funktion defineret angiv den mindste værdi m og den største værdi M som f antager på mængden\n",
    "\n",
    "from sympy import init_printing\n",
    "init_printing(use_latex = True)\n",
    "from sympy import *\n",
    "import numpy as np\n",
    "import matplotlib.pyplot as plt\n",
    "\n",
    "from sympy.abc import x,y,z,a,b,c,d\n",
    "\n",
    "fxy = -x**2+12*x+y**2-4*y-31\n",
    "xmin=-oo\n",
    "xmax=8\n",
    "ymin=0\n",
    "ymax=x\n",
    "print(\"f(x,y) =\",fxy)\n",
    "\n",
    "fxyx = diff(fxy,x)\n",
    "fxyy = diff(fxy,y)\n",
    "\n",
    "print(\"nabla f(x,y) = (\",fxyx,\",\",fxyy,\")\")\n",
    "\n",
    "fxyxeq = Eq(fxyx,0)\n",
    "fxyyeq = Eq(fxyy,0)\n",
    "\n",
    "solx=solve(fxyxeq,x)\n",
    "soly=solve(fxyyeq,y)\n",
    "print(solx,soly)\n",
    "\n",
    "difval=fxy.subs([(x,solx[0]),(y,soly[0])])\n",
    "\n",
    "print(\"val=\",difval)\n",
    "\n",
    "\n",
    "minval=fxy.subs([(y,ymin),(x,)])\n",
    "print(\"m=\",minval)\n",
    "maxval=fxy.subs([(y,ymax),(x,xmax)])\n",
    "\n",
    "print(\"M=\",maxval)"
   ]
  },
  {
   "cell_type": "code",
   "execution_count": null,
   "metadata": {},
   "outputs": [],
   "source": []
  }
 ],
 "metadata": {
  "kernelspec": {
   "display_name": "Python 3",
   "language": "python",
   "name": "python3"
  },
  "language_info": {
   "codemirror_mode": {
    "name": "ipython",
    "version": 3
   },
   "file_extension": ".py",
   "mimetype": "text/x-python",
   "name": "python",
   "nbconvert_exporter": "python",
   "pygments_lexer": "ipython3",
   "version": "3.8.3"
  }
 },
 "nbformat": 4,
 "nbformat_minor": 4
}
