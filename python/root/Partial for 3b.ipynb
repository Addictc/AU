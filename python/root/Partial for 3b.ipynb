{
 "cells": [
  {
   "cell_type": "code",
   "execution_count": 29,
   "metadata": {
    "scrolled": true
   },
   "outputs": [
    {
     "name": "stdout",
     "output_type": "stream",
     "text": [
      "Given the function \\begin{equation}x^{2} \\sin{\\left(\\pi y^{2} \\right)}\\end{equation} the partial derivative for a given variable is determined by differentiating the original function by the respective variable\n",
      "Since this is a composite function the chain rule is used\n",
      "\\begin{equation} (f(g(x)))'=f'(g(x))\\cdot g'(x) \\end{equation}\n",
      "the following functions are chosen as f and g respectively\n",
      "\\begin{equation} f_x = \\frac{\\partial}{\\partial x} = \\pi^{2} y^{4} \\cos{\\left(\\pi y^{2} \\right)} + 2 \\pi y^{2} \\sin{\\left(\\pi y^{2} \\right)} \\cdot 0 \\end{equation}\n",
      "\\begin{equation} f_y = \\frac{\\partial}{\\partial y} = 0 \\cdot 2 \\pi y \\end{equation}\n",
      "\\begin{equation} f_x = \\frac{\\partial}{\\partial x} = 2 x \\sin{\\left(\\pi y^{2} \\right)} \\end{equation}\n",
      "\\begin{equation} f_y = \\frac{\\partial}{\\partial y} = 2 \\pi x^{2} y \\cos{\\left(\\pi y^{2} \\right)} \\end{equation}\n"
     ]
    }
   ],
   "source": [
    "#Sympy script til løsning af opgaver af typen\n",
    "#Givet\n",
    "#*Integral her.*\n",
    "#find df(x)/dx ved hjælp af differentialreghningens fundamentalsætning\n",
    "\n",
    "\n",
    "from sympy import init_printing\n",
    "init_printing(use_latex = True)\n",
    "from sympy import *\n",
    "\n",
    "x,y,z,t,f,fm,g,gm,v= symbols(\"x y z t f fm g gm v\")\n",
    "#insert f(x,y,...)\n",
    "origin = x**2*sin(pi*y**2)\n",
    "var = v\n",
    "var1 = x\n",
    "var2 = y\n",
    "var3 = z\n",
    "\n",
    "#Lower and upper bounds if integral \n",
    "#limb = 1 \n",
    "#limt = x\n",
    "#insert the functions inside here\n",
    "\n",
    "\n",
    "a = x**2*sin(var)\n",
    "b = pi*y**2\n",
    "\n",
    "c1 = diff(a,var1)\n",
    "d1 = diff(b,var1)\n",
    "\n",
    "c2 = diff(a,var2)\n",
    "d2 = diff(b,var2)\n",
    "\n",
    "#fullint = Integral(origin, (t, limb, limt))\n",
    "#display(fullint)\n",
    "\n",
    "\n",
    "print('Given the function',latex((origin),mode='equation'),'the partial derivative for a given variable is determined by differentiating the original function by the respective variable' )\n",
    "\n",
    "print('Since this is a composite function the chain rule is used')\n",
    "chainrule = \"(f(g(x)))'=f'(g(x))\\cdot g'(x)\"\n",
    "print(\"\\\\begin{equation}\",chainrule,\"\\\\end{equation}\")\n",
    "\n",
    "#int f(x)g(x)\\:dx=f(x)G(x)-\\int f'(x)G(x)\\:dx\n",
    "#\\int_a^b f(x)g(x)\\:dx=[f(x)G(x)]_a^b-\\int_a^b f'(x)G(x)\\:dx\n",
    "\n",
    "print(\"the following functions are chosen as f and g respectively\")\n",
    "\n",
    "f = a\n",
    "g = b\n",
    "fm1 = c1\n",
    "gm1 = d1\n",
    "\n",
    "fm2 = c2\n",
    "gm2 = d2\n",
    "\n",
    "\n",
    "\n",
    "\n",
    "print(\"\\\\begin{equation} f_x = \\\\frac{\\partial}{\\partial x} =\",latex(c1.subs(var1,g)),\"\\cdot\",latex(gm1),'\\\\end{equation}')\n",
    "print(\"\\\\begin{equation} f_y = \\\\frac{\\partial}{\\partial y} =\",latex(c2.subs(var2,g)),\"\\cdot\",latex(gm2),'\\\\end{equation}')\n",
    "\n",
    "\n",
    "\n",
    "\n",
    "partx = diff(origin,x)\n",
    "party = diff(origin,y)\n",
    "\n",
    "print('\\\\begin{equation} f_x = \\\\frac{\\partial}{\\partial x} =',latex(partx),'\\\\end{equation}')\n",
    "print('\\\\begin{equation} f_y = \\\\frac{\\partial}{\\partial y} =',latex(party),'\\\\end{equation}')\n",
    "\n",
    "\n"
   ]
  },
  {
   "cell_type": "code",
   "execution_count": null,
   "metadata": {},
   "outputs": [],
   "source": []
  },
  {
   "cell_type": "code",
   "execution_count": null,
   "metadata": {},
   "outputs": [],
   "source": []
  }
 ],
 "metadata": {
  "kernelspec": {
   "display_name": "Python 3",
   "language": "python",
   "name": "python3"
  },
  "language_info": {
   "codemirror_mode": {
    "name": "ipython",
    "version": 3
   },
   "file_extension": ".py",
   "mimetype": "text/x-python",
   "name": "python",
   "nbconvert_exporter": "python",
   "pygments_lexer": "ipython3",
   "version": "3.8.3"
  }
 },
 "nbformat": 4,
 "nbformat_minor": 4
}
