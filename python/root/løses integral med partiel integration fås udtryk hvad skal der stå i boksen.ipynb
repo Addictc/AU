{
 "cells": [
  {
   "cell_type": "code",
   "execution_count": 29,
   "metadata": {},
   "outputs": [
    {
     "name": "stdout",
     "output_type": "stream",
     "text": [
      "c:\n"
     ]
    },
    {
     "data": {
      "image/png": "[encoded data removed]",
      "text/latex": [
       "$\\displaystyle \\cos{\\left(x \\right)}$"
      ],
      "text/plain": [
       "cos(x)"
      ]
     },
     "metadata": {},
     "output_type": "display_data"
    },
    {
     "name": "stdout",
     "output_type": "stream",
     "text": [
      "d:\n"
     ]
    },
    {
     "data": {
      "image/png": "[encoded data removed]",
      "text/latex": [
       "$\\displaystyle 1$"
      ],
      "text/plain": [
       "1"
      ]
     },
     "metadata": {},
     "output_type": "display_data"
    }
   ],
   "source": [
    "#Sympy script til løsning af opgaver af typen\n",
    "#Løses\n",
    "#*Integral her.*\n",
    "#med partiel integration fås\n",
    "#*udtryk*\n",
    "#hvad skal der stå i boksen?\n",
    "#\n",
    "#partiel integration reminder:\n",
    "#\\int f(x)g(x)\\:dx=f(x)G(x)-\\int f'(x)G(x)\\:dx\n",
    "#\\int_a^b f(x)g(x)\\:dx=[f(x)G(x)]_a^b-\\int_a^b f'(x)G(x)\\:dx\n",
    "\n",
    "\n",
    "from sympy import init_printing\n",
    "init_printing(use_latex = True)\n",
    "\n",
    "from sympy import *\n",
    "\n",
    "x,y,z,t,a,b,c,d= symbols(\"x y z t a b c d\")\n",
    "\n",
    "#insert the two functions inside here\n",
    "a = x\n",
    "b = -sin(x)\n",
    "\n",
    "c = integrate(b,x)\n",
    "d = diff(a,x)\n",
    "\n",
    "#fullint = a*c-Integral(d*c,x)\n",
    "#display(fullint)\n",
    "#print(latex(fullint))\n",
    "\n",
    "print('c:')\n",
    "display(c)\n",
    "print('d:')\n",
    "display(d)\n"
   ]
  },
  {
   "cell_type": "code",
   "execution_count": null,
   "metadata": {},
   "outputs": [],
   "source": []
  },
  {
   "cell_type": "code",
   "execution_count": null,
   "metadata": {},
   "outputs": [],
   "source": []
  }
 ],
 "metadata": {
  "kernelspec": {
   "display_name": "Python 3",
   "language": "python",
   "name": "python3"
  },
  "language_info": {
   "codemirror_mode": {
    "name": "ipython",
    "version": 3
   },
   "file_extension": ".py",
   "mimetype": "text/x-python",
   "name": "python",
   "nbconvert_exporter": "python",
   "pygments_lexer": "ipython3",
   "version": "3.8.3"
  }
 },
 "nbformat": 4,
 "nbformat_minor": 4
}
